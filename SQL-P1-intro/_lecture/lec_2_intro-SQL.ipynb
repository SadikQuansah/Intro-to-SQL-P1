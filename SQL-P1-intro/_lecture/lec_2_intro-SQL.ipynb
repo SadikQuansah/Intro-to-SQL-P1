{
 "cells": [
  {
   "cell_type": "markdown",
   "id": "9e769994",
   "metadata": {},
   "source": [
    "# SQL - Intro P2"
   ]
  },
  {
   "cell_type": "code",
   "execution_count": null,
   "id": "daf1eb9c",
   "metadata": {},
   "outputs": [],
   "source": [
    "import pandas as pd\n",
    "import sqlite3\n",
    "\n",
    "conn = sqlite3.connect('../data/mtcars.sqlite')\n",
    "df = pd.read_sql_query(\"SELECT * FROM results\", conn)\n",
    "df"
   ]
  },
  {
   "cell_type": "markdown",
   "id": "ca652e3d",
   "metadata": {},
   "source": [
    "## GROUP BY\n",
    "\n",
    "GROUP BY can be used to summarize values in a table (sum, average, count, etc.). In order to use GROUP BY correctly, the SELECT statement should contain the columns for which you want to display aggregated data, a column that needs to be transformed and indicate what transformation needs to be applied. The rest of your query would follow as standard, i.e. you indicate FROM which table you need to retrieve data.\n",
    "\n",
    "If there are any filters you need to apply, you specify them in the WHERE clause. Finally, you add GROUP BY which should contain one or more variables separated by commas for which you are grouping the data.\n",
    "\n",
    "<code> SELECT var1, var2, sum(var3) as sum_var3 FROM table GROUP BY var1, var2 </code>\n",
    "\n",
    "Keep in mind, that the below syntax will return an error or incorrect results\n",
    "\n",
    "<code> SELECT var1, var2, sum(var3) as sum_var3 FROM table GROUP BY var1 </code> **var2 needs to be in the GROUP BY**"
   ]
  },
  {
   "cell_type": "code",
   "execution_count": null,
   "id": "97d5ac38",
   "metadata": {},
   "outputs": [],
   "source": [
    "pd.read_sql_query(\"\"\"SELECT cylinders, SUM(weight) AS agg_weight \n",
    "                  FROM results\"\"\", conn)"
   ]
  },
  {
   "cell_type": "code",
   "execution_count": null,
   "id": "243e5e5c",
   "metadata": {},
   "outputs": [],
   "source": [
    "pd.read_sql_query(\"\"\"SELECT cylinders, SUM(weight) AS agg_weight \n",
    "                  FROM results\n",
    "                  GROUP BY cylinders\"\"\", conn)"
   ]
  },
  {
   "cell_type": "markdown",
   "id": "cbf3916a",
   "metadata": {},
   "source": [
    "What if I want to select cylinders  where agg_weight is at least 10,000?"
   ]
  },
  {
   "cell_type": "code",
   "execution_count": null,
   "id": "42dacbf8",
   "metadata": {},
   "outputs": [],
   "source": [
    "pd.read_sql_query(\"\"\"SELECT cylinders, SUM(weight) AS agg_weight \n",
    "                  FROM results\n",
    "                  WHERE weight >= 10000\n",
    "                  GROUP BY cylinders\"\"\", conn)"
   ]
  },
  {
   "cell_type": "code",
   "execution_count": null,
   "id": "6a7676d3",
   "metadata": {},
   "outputs": [],
   "source": [
    "# This will break!\n",
    "\n",
    "pd.read_sql_query(\"\"\"SELECT cylinders, SUM(weight) AS agg_weight \n",
    "                  FROM results\n",
    "                  WHERE agg_weight >= 10000\n",
    "                  GROUP BY cylinders\"\"\", conn)"
   ]
  },
  {
   "cell_type": "markdown",
   "id": "785d6293",
   "metadata": {},
   "source": [
    "## HAVING\n",
    "\n",
    "HAVING allows you to filter aggregated results which the WHERE keyword doesn't support. HAVING should be included **AFTER** GROUP BY.\n",
    "\n"
   ]
  },
  {
   "cell_type": "code",
   "execution_count": null,
   "id": "248175ce",
   "metadata": {},
   "outputs": [],
   "source": [
    "pd.read_sql_query(\"\"\"SELECT cylinders, SUM(weight) AS agg_weight \n",
    "                  FROM results\n",
    "                  GROUP BY cylinders\n",
    "                  HAVING SUM(weight) >= 5000\"\"\", conn)"
   ]
  },
  {
   "cell_type": "markdown",
   "id": "f2fe7123",
   "metadata": {},
   "source": [
    "## ORDER BY\n",
    "If you want to sort the order of the SELECT statement, you can use ORDER BY. This doesn't change the order of records in a table, and only affects the output of the statement. You can sort in descending order by adding desc key word after the name of the variable you want to sort. The default order is ascending. You can also sort by multiple variables; you just need to separate them by commas."
   ]
  },
  {
   "cell_type": "code",
   "execution_count": null,
   "id": "c1a338dc",
   "metadata": {},
   "outputs": [],
   "source": [
    "pd.read_sql_query(\"\"\"SELECT *\n",
    "                  FROM results\n",
    "                  ORDER BY cylinders\"\"\", conn)"
   ]
  },
  {
   "cell_type": "code",
   "execution_count": null,
   "id": "d0b6236f",
   "metadata": {},
   "outputs": [],
   "source": [
    "pd.read_sql_query(\"\"\"SELECT *\n",
    "                  FROM results\n",
    "                  ORDER BY cylinders DESC\"\"\", conn)"
   ]
  },
  {
   "cell_type": "code",
   "execution_count": null,
   "id": "36cf46d4",
   "metadata": {},
   "outputs": [],
   "source": [
    "pd.read_sql_query(\"\"\"SELECT *\n",
    "                  FROM results\n",
    "                  ORDER BY cylinders DESC, year DESC\"\"\", conn)"
   ]
  },
  {
   "cell_type": "code",
   "execution_count": null,
   "id": "9221bf8e",
   "metadata": {},
   "outputs": [],
   "source": []
  }
 ],
 "metadata": {
  "kernelspec": {
   "display_name": "Python 3 (ipykernel)",
   "language": "python",
   "name": "python3"
  },
  "language_info": {
   "codemirror_mode": {
    "name": "ipython",
    "version": 3
   },
   "file_extension": ".py",
   "mimetype": "text/x-python",
   "name": "python",
   "nbconvert_exporter": "python",
   "pygments_lexer": "ipython3",
   "version": "3.9.7"
  }
 },
 "nbformat": 4,
 "nbformat_minor": 5
}
