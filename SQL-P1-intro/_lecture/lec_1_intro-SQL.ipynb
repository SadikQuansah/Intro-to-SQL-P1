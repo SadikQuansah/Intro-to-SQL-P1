{
 "cells": [
  {
   "cell_type": "markdown",
   "id": "099cc7a5",
   "metadata": {},
   "source": [
    "# Introduction to SQL\n",
    "\n",
    "[SQL](https://en.wikipedia.org/wiki/SQL) stands for Structured Query Language (you can pronounce it as 'sequel' or 'ess-cue-elle'). It allows you to retrieve data stored in relational databases and manipulate it in a variety of ways.\n",
    "\n",
    "If a concept of a database is new to you, you can think of it as a collection of tables. For instance, you can draw a comparison to an Excel workbook with multiple worksheets where each worksheet is somehow related to another. Worksheets in this comparison are SQL tables and the entire workbook would be a database. The key is to have some sort of relationship between the tables that allows you to bring all that data together (this is just an analogy and Excel workbook is not a database!).\n",
    "\n",
    "Each table in SQL consists of rows and columns where columns represent different data attributes and rows represent observations or data records. Tables can contain different types of data but the main types are integer, decimal, character or string, date, and time.\n",
    "\n",
    "There are many DB systems available like MySQL, PostgreSQL, Oracle Database, MS SQL Server, Amazon Redshift, etc. However, all of them speak SQL, so once you've got the hang of the basic SQL syntax you'll be able to work with any of them.\n",
    "\n",
    "To keep things simple, we will be using a database system called [SQLite](https://www.sqlite.org/about.html) to practice SQL syntax.\n",
    "Unlike most other SQL databases, SQLite does not have a separate server. SQLite reads and writes directly to ordinary files on your computer. A complete SQL database with multiple tables, etc., is contained in a single file.\n",
    "\n",
    "### Resources\n",
    "\n",
    "Since SQL is the main database language used worldwide, there are plenty of resources to master it:\n",
    "\n",
    "- https://sqlzoo.net/\n",
    "\n",
    "- https://sqlbolt.com\n",
    "\n",
    "- https://leetcode.com\n",
    "\n",
    "- https://www.sql-ex.ru/learn_exercises.php\n",
    "\n",
    "# Using Raw SQL cursor connections"
   ]
  },
  {
   "cell_type": "code",
   "execution_count": null,
   "id": "e85247fa",
   "metadata": {},
   "outputs": [],
   "source": [
    "import pandas as pd\n",
    "import sqlite3\n",
    "conn = sqlite3.connect('../data/mtcars.sqlite') # create a connection\n",
    "c = conn.cursor() # create a cursor (a mechanism that enables traversal over the records in a database)"
   ]
  },
  {
   "cell_type": "markdown",
   "id": "fe1e174e",
   "metadata": {},
   "source": [
    "### SELECT\n",
    "\n",
    "SELECT is the most important command as it allows you to retrieve data from a table. SELECT on itself won't do anything, so you need to specify what data you want to retrieve and from where.\n",
    "\n",
    "You can retrieve data from a table, so you need to specify a table name in the SELECT statement. SELECT statement refers to the columns part of a table and not the rows, so you also need to list columns. Here are a few things to remember:\n",
    "\n",
    "- To select a column, you will simply need to type its name\n",
    "- You can select all columns by typing their name or you can use * to select all columns without typing their names\n",
    "- You can select as many or as few columns from a table as you want\n",
    "- You can even create new columns in the SELECT statement\n",
    "\n",
    "\n",
    "You can even create new columns in the SELECT statement. SQL supports mathematical operations and has a variety of built-in functions https://www.sqlitetutorial.net/\n"
   ]
  },
  {
   "cell_type": "code",
   "execution_count": null,
   "id": "552f5002",
   "metadata": {},
   "outputs": [],
   "source": [
    "# OPTION 1\n",
    "# we can use sqlite3 directly\n",
    "cursor = c.execute(f\"SELECT * FROM results\")\n",
    "row = cursor.fetchall()"
   ]
  },
  {
   "cell_type": "code",
   "execution_count": null,
   "id": "17285794",
   "metadata": {},
   "outputs": [],
   "source": [
    "row[0:2] # gets data back as a list of tuples"
   ]
  },
  {
   "cell_type": "code",
   "execution_count": null,
   "id": "f9613c27",
   "metadata": {},
   "outputs": [],
   "source": [
    "# get column names\n",
    "column_names = list(map(lambda x: x[0], cursor.description))\n",
    "\n",
    "print(column_names)"
   ]
  },
  {
   "cell_type": "code",
   "execution_count": null,
   "id": "56dec4e7",
   "metadata": {},
   "outputs": [],
   "source": [
    "# OPTION 2\n",
    "# we can also use pandas\n",
    "df = pd.read_sql_query(\"SELECT * FROM results\", conn) # pass query & connection\n",
    "df.head()"
   ]
  },
  {
   "cell_type": "code",
   "execution_count": null,
   "id": "832f3d49",
   "metadata": {},
   "outputs": [],
   "source": [
    "# select only mpg & cylinders\n",
    "pd.read_sql_query(\"SELECT mpg, cylinders, name FROM results\", conn)"
   ]
  },
  {
   "cell_type": "markdown",
   "id": "2ae2904b",
   "metadata": {},
   "source": [
    "## WHERE\n",
    "\n",
    "There will be cases where you don't want all of the observations to be returned; that's when you use the WHERE clause. It is typically specified after a table name (unless you do a join, more on this to come). This is a typical syntax <code> WHERE column_name operator value </code>\n",
    "\n",
    "\n",
    "- Mathematical comparisons with the following operators =, <,>, <=, >=, <> . Note that <> means not equal. =, <> can be used for strings and numbers\n",
    "- To search for a pattern in a string, you can use LIKE operator\n",
    "- You can use IN operator to specify multiple values in a column\n",
    "- You can have multiple filters in the WHERE clause separated by AND or OR. Don't forget to specify column name for every filter you pass in the WHERE clause\n"
   ]
  },
  {
   "cell_type": "code",
   "execution_count": null,
   "id": "d74e4d1d",
   "metadata": {},
   "outputs": [],
   "source": [
    "pd.read_sql_query(\"\"\"SELECT * \n",
    "                        FROM results\n",
    "                        WHERE mpg < 20 AND cylinders in (6,8) AND year <> 70 AND\n",
    "                              name LIKE '%ford%'\n",
    "                   \"\"\", conn) # I like to use \"\"\" instead of ' or \""
   ]
  },
  {
   "cell_type": "code",
   "execution_count": null,
   "id": "907aa311",
   "metadata": {},
   "outputs": [],
   "source": [
    "pd.read_sql_query(\"\"\"SELECT * \n",
    "                        FROM results\n",
    "                        WHERE cylinders = 6 OR 8\n",
    "                   \"\"\", conn) #Notice it doesn't work as expected"
   ]
  },
  {
   "cell_type": "code",
   "execution_count": null,
   "id": "2be186c7",
   "metadata": {},
   "outputs": [],
   "source": [
    "pd.read_sql_query(\"\"\"SELECT * \n",
    "                        FROM results\n",
    "                        WHERE cylinders = 6 OR cylinders = 8\n",
    "                   \"\"\", conn) # We needs to be specific. "
   ]
  },
  {
   "cell_type": "code",
   "execution_count": null,
   "id": "a78dd034",
   "metadata": {},
   "outputs": [],
   "source": [
    "pd.read_sql_query(\"\"\"SELECT * \n",
    "                        FROM results\n",
    "                        WHERE cylinders = 6 OR cylinders = 8 AND year <> 70\n",
    "                   \"\"\", conn)"
   ]
  },
  {
   "cell_type": "markdown",
   "id": "9d237734",
   "metadata": {},
   "source": [
    "## CASE WHEN\n",
    "\n",
    "You can use conditional logic to create variables by following this syntax.\n",
    "\n",
    "<code> CASE WHEN condition THEN result1 ELSE result2 END AS new_variable </code>\n",
    "\n",
    "You can also have multiple conditions.\n",
    "\n",
    "<code> CASE WHEN condition1 THEN result1 WHEN condition2 THEN result2 ELSE result3 END AS new_variable  </code>"
   ]
  },
  {
   "cell_type": "code",
   "execution_count": null,
   "id": "a49a6a15",
   "metadata": {},
   "outputs": [],
   "source": [
    "pd.read_sql_query(\"\"\"\n",
    "                    SELECT *,\n",
    "                    CASE WHEN mpg < 20 THEN '<20' ELSE '20+' END AS mpg_gp\n",
    "                    FROM results\"\"\", conn)"
   ]
  },
  {
   "cell_type": "markdown",
   "id": "9cebcebc",
   "metadata": {},
   "source": [
    "## SQL TABLE\n",
    "\n",
    "### CREATE\n",
    "The CREATE TABLE command creates a new table in your database. You can either create temporary or permanent tables. You can also create a table based on an existing table or you can create an empty table and populate it. \n",
    "\n",
    "Temporary table syntax varies from one DB system to another. We'll look at SQLite syntax, but here is an example of MS SQL Server syntax:\n",
    "\n",
    "<code> SELECT * INTO #temp_tbl_nm FROM existing_tbl </code>\n",
    "\n",
    "SQLite syntax:\n",
    "\n",
    "<code> CREATE *TEMPORARY* TABLE temp_table AS SELECT * FROM existing_tbl </code>\n",
    "\n",
    "Syntax to create an empty table:\n",
    "\n",
    "<code> CREATE TABLE new_table ( column1 int, column2 varchar(255)) </code>\n",
    "\n",
    "### INSERT INTO\n",
    "\n",
    "To add rows into a table, we can use the INSERT INTO statement. \n",
    "\n",
    "<code> INSERT INTO tbl_name (column1, column2) VALUES (1, 'Canada') </code>\n",
    "\n",
    "### ALTER\n",
    "If we want to mofidy a column in a table (add, delete, change data type, etc.), we can use the ALTER TABLE command.\n",
    "\n",
    "<code> ALTER TABLE new_table ADD column3 varchar(5) </code>\n",
    "\n",
    "### DROP \n",
    "\n",
    "The DROP TABLE command deletes a table in a database. It can be applied to both permanent and temporary tables.\n",
    "\n",
    "<code> DROP TABLE tbl_name </code>\n"
   ]
  },
  {
   "cell_type": "markdown",
   "id": "e8147942",
   "metadata": {},
   "source": [
    "## Making a new table in Python\n",
    "\n",
    "You can create a new SQL table from an existing data frame in Python"
   ]
  },
  {
   "cell_type": "code",
   "execution_count": null,
   "id": "0ce870ca",
   "metadata": {},
   "outputs": [],
   "source": [
    "df"
   ]
  },
  {
   "cell_type": "code",
   "execution_count": null,
   "id": "e308b31c",
   "metadata": {},
   "outputs": [],
   "source": [
    "df.to_sql(\n",
    "    name=\"test_output\",\n",
    "    con=conn, \n",
    "    schema=None, \n",
    "    if_exists='replace', \n",
    "    index=True, \n",
    ")"
   ]
  },
  {
   "cell_type": "code",
   "execution_count": null,
   "id": "21b41797",
   "metadata": {},
   "outputs": [],
   "source": [
    "pd.read_sql(\"SELECT * FROM test_output LIMIT 10\", con=conn)\n",
    "# limit 10 works just like .head(10)\n",
    "# in MS SQL Server, SELECT top 10 * FROM test_output\n",
    "# in Oracle, SELECT * FROM test_output WHERE rownum <=10"
   ]
  },
  {
   "cell_type": "markdown",
   "id": "dd311865",
   "metadata": {},
   "source": [
    "### List  tables in a database\n",
    "\n",
    "Table and index names can be listed by doing a **SELECT** on a special table named \"***SQLITE_MASTER***\". Every SQLite database has an SQLITE_MASTER table that defines the schema for the database. For tables, the ***type*** field will always be '***table***' and the name field will be the name of the table. So to get a list of all tables in the database, use the following SELECT command:\n",
    "\n",
    "See more at https://www.sqlite.org/faq.html#q7."
   ]
  },
  {
   "cell_type": "code",
   "execution_count": null,
   "id": "ad5d74b8",
   "metadata": {},
   "outputs": [],
   "source": [
    "pd.read_sql(\"SELECT name FROM sqlite_master WHERE type='table'\", con=conn)"
   ]
  },
  {
   "cell_type": "markdown",
   "id": "42ae4036",
   "metadata": {},
   "source": [
    "# Making a new DB\n",
    "\n",
    "Is as simple as connecting to a new file name"
   ]
  },
  {
   "cell_type": "code",
   "execution_count": null,
   "id": "756d6895",
   "metadata": {},
   "outputs": [],
   "source": [
    "song = pd.read_csv('../data/song_data.csv')"
   ]
  },
  {
   "cell_type": "code",
   "execution_count": null,
   "id": "a7493d37",
   "metadata": {},
   "outputs": [],
   "source": [
    "conn = sqlite3.connect('song.sqlite')\n",
    "song.to_sql('song_data',con=conn,index=False,if_exists='replace')\n",
    "    "
   ]
  },
  {
   "cell_type": "code",
   "execution_count": null,
   "id": "0d91e0b2",
   "metadata": {},
   "outputs": [],
   "source": [
    "pd.read_sql(\"SELECT name FROM sqlite_master WHERE type='table'\",conn)"
   ]
  },
  {
   "cell_type": "code",
   "execution_count": null,
   "id": "1ee63a74",
   "metadata": {},
   "outputs": [],
   "source": [
    "pd.read_sql_query(\"\"\"SELECT * FROM song_data\"\"\",conn)"
   ]
  },
  {
   "cell_type": "code",
   "execution_count": null,
   "id": "8c4bab53",
   "metadata": {},
   "outputs": [],
   "source": []
  }
 ],
 "metadata": {
  "kernelspec": {
   "display_name": "Python 3 (ipykernel)",
   "language": "python",
   "name": "python3"
  },
  "language_info": {
   "codemirror_mode": {
    "name": "ipython",
    "version": 3
   },
   "file_extension": ".py",
   "mimetype": "text/x-python",
   "name": "python",
   "nbconvert_exporter": "python",
   "pygments_lexer": "ipython3",
   "version": "3.9.7"
  }
 },
 "nbformat": 4,
 "nbformat_minor": 5
}
