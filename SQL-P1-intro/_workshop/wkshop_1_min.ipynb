{
 "cells": [
  {
   "cell_type": "code",
   "execution_count": 14,
   "id": "d9d89765",
   "metadata": {},
   "outputs": [],
   "source": [
    "import pandas as pd \n",
    "import numpy as np\n",
    "import matplotlib.pyplot as pld\n",
    "import seaborn as sns\n",
    "import sqlite3"
   ]
  },
  {
   "cell_type": "markdown",
   "id": "ff3d5a4d",
   "metadata": {},
   "source": [
    "# Exercise 1\n",
    "\n",
    "Using the same Data Base as in lecture 2, please execute the following:\n",
    "\n",
    "**1.1** Select unique values in the year column and order them in acsending order. How many unique values are there?\n",
    "\n",
    "**1.2** Create a column with vehicle age values\n",
    "\n",
    "**1.3** If a vehicle is older than 45 years, then label it as \"45+\". Otherwise, label it as \"<45\". Create a new column that takes these two values\n",
    "\n",
    "**1.4** How many vehicles are in our dataset that are under 45 and 45 and over?\n",
    "\n",
    "**1.5** List all unique vehicle name values that have 8 cylinders with horsepower that is greater than 125 but doesn't exceed 200\n"
   ]
  },
  {
   "cell_type": "code",
   "execution_count": null,
   "id": "6de6fe24",
   "metadata": {},
   "outputs": [],
   "source": [
    "# 1"
   ]
  },
  {
   "cell_type": "markdown",
   "id": "16e738fc",
   "metadata": {},
   "source": [
    "# Exercise 2 Songs Database\n",
    "\n",
    "**2.1** Take the songs dataset and turn it into a single `sqlite` database. "
   ]
  },
  {
   "cell_type": "code",
   "execution_count": null,
   "id": "0646e80b",
   "metadata": {},
   "outputs": [],
   "source": [
    "# 2.1"
   ]
  },
  {
   "cell_type": "markdown",
   "id": "a615c1c1",
   "metadata": {},
   "source": [
    "# 2.2 Queries\n",
    "\n",
    "**2.2.1** Use a single query to see if your favorite song is in this dataset\n",
    "\n",
    "**2.2.2** How many unique popularity scores are there?\n",
    "\n",
    "**2.2.3** How many song names are in this dataset that contain _'radio edit'_ in their name? Make sure your query is not case sensitive and there is only one single character (space) between _'radio'_ and _'edit'_.\n",
    "\n",
    "**2.2.4** Write an SQL query to report songs with popularity of 99 and above. How many songs are there?\n",
    "\n",
    "**2.2.5** Create a new column that contains song duration in the following format m:s. Example, the duration of Boulevard of Broken Dreams is 4:22\n",
    "\n",
    "**2.2.6** Display the minimum, maximum and average popularity scores. The output of your query should contain only one row with 3 columns.\n",
    "\n",
    "**2.2.7** Display average popularity scores and count for songs that contain \"love\" in their name and those that don't. Is there any difference in their popularity? \n",
    "\n",
    "**2.2.8** Display top 5 songs with the longest names.\n",
    "\n"
   ]
  },
  {
   "cell_type": "code",
   "execution_count": null,
   "id": "b92753b4",
   "metadata": {},
   "outputs": [],
   "source": [
    "# 2.2"
   ]
  }
 ],
 "metadata": {
  "kernelspec": {
   "display_name": "Python 3 (ipykernel)",
   "language": "python",
   "name": "python3"
  },
  "language_info": {
   "codemirror_mode": {
    "name": "ipython",
    "version": 3
   },
   "file_extension": ".py",
   "mimetype": "text/x-python",
   "name": "python",
   "nbconvert_exporter": "python",
   "pygments_lexer": "ipython3",
   "version": "3.9.7"
  }
 },
 "nbformat": 4,
 "nbformat_minor": 5
}
