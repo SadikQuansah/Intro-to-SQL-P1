{
 "cells": [
  {
   "cell_type": "markdown",
   "id": "fcfb618a",
   "metadata": {},
   "source": [
    "# 2.2 Queries\n",
    "\n",
    "If you want more practice, explore built-in [String Functions](https://www.sqlitetutorial.net/sqlite-string-functions/) and [Aggregate Functions](https://www.sqlitetutorial.net/sqlite-aggregate-functions/) using the songs dataset."
   ]
  },
  {
   "cell_type": "code",
   "execution_count": null,
   "id": "f09c7b74",
   "metadata": {},
   "outputs": [],
   "source": []
  },
  {
   "cell_type": "markdown",
   "id": "f692122a",
   "metadata": {},
   "source": [
    "# 2.2 Pandas Refresher (Bonus)\n",
    "\n",
    "Try answering questions from 1.2 with non-SQL Pandas commands."
   ]
  },
  {
   "cell_type": "code",
   "execution_count": null,
   "id": "65da1fdd",
   "metadata": {},
   "outputs": [],
   "source": []
  }
 ],
 "metadata": {
  "kernelspec": {
   "display_name": "Python 3 (ipykernel)",
   "language": "python",
   "name": "python3"
  },
  "language_info": {
   "codemirror_mode": {
    "name": "ipython",
    "version": 3
   },
   "file_extension": ".py",
   "mimetype": "text/x-python",
   "name": "python",
   "nbconvert_exporter": "python",
   "pygments_lexer": "ipython3",
   "version": "3.9.7"
  }
 },
 "nbformat": 4,
 "nbformat_minor": 5
}
